{
 "cells": [
  {
   "cell_type": "code",
   "execution_count": 2,
   "metadata": {},
   "outputs": [
    {
     "name": "stdout",
     "output_type": "stream",
     "text": [
      "\n",
      "Starting Encrypter Program\n",
      "\n",
      "The following dict will be used for encryption:\n",
      " {'a': '4', 'e': '3', 'i': '1', 'o': '0', 'u': '2'}\n",
      "Please type the message you wish to encrypt: hola\n",
      "hola -> has been encrypted to -> h0l4\n"
     ]
    }
   ],
   "source": [
    "def encrypter(text, charlist, new_charlist): \n",
    "    dictionary = dict(zip(charlist, new_charlist)) \n",
    "    encrypted_text = ''\n",
    "    for char in text: \n",
    "        try:\n",
    "            encrypted_text += str(dictionary[char]) \n",
    "        except:\n",
    "            encrypted_text += str(char)\n",
    "    print (text + ' -> has been encrypted to -> ' + encrypted_text)\n",
    "    return encrypted_text\n",
    "\n",
    "keys  =  ['a',  'e',  'i',  'o',  'u']\n",
    "values  =  ['4',  '3',  '1',  '0',  '2']\n",
    "print(\"\\nStarting Encrypter Program\\n\")\n",
    "print(\"The following dict will be used for encryption:\\n\",dict(zip(keys, values))) \n",
    "str_msg= input (\"Please type the message you wish to encrypt: \")\n",
    "encrypter_msg = encrypter (str_msg, keys, values)\n"
   ]
  }
 ],
 "metadata": {
  "kernelspec": {
   "display_name": "Python 3",
   "language": "python",
   "name": "python3"
  },
  "language_info": {
   "codemirror_mode": {
    "name": "ipython",
    "version": 3
   },
   "file_extension": ".py",
   "mimetype": "text/x-python",
   "name": "python",
   "nbconvert_exporter": "python",
   "pygments_lexer": "ipython3",
   "version": "3.8.5"
  }
 },
 "nbformat": 4,
 "nbformat_minor": 4
}
